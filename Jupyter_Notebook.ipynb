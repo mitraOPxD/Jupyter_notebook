{
 "cells": [
  {
   "cell_type": "markdown",
   "metadata": {},
   "source": [
    "<center>\n",
    "    <img src=\"https://cf-courses-data.s3.us.cloud-object-storage.appdomain.cloud/IBMDeveloperSkillsNetwork-DS0105EN-SkillsNetwork/labs/Module2/images/SN_web_lightmode.png\" width=\"300\" alt=\"cognitiveclass.ai logo\">\n",
    "</center>\n"
   ]
  },
  {
   "cell_type": "markdown",
   "metadata": {},
   "source": [
    "#### Add your code below following the instructions given in the course\n"
   ]
  },
  {
   "cell_type": "markdown",
   "metadata": {},
   "source": [
    "<h1>My Jupyter Notebook on IBM Watson Studio<h1>"
   ]
  },
  {
   "cell_type": "markdown",
   "metadata": {},
   "source": [
    "<h2>Anurag Mitra<h2>\n",
    "<h3>Data Scientist<h3>"
   ]
  },
  {
   "cell_type": "markdown",
   "metadata": {},
   "source": [
    "<em> i am intrested in data science as it is a wide domian with really good career oppurtunities and decent amount of growth in career</em>"
   ]
  },
  {
   "cell_type": "markdown",
   "metadata": {},
   "source": [
    "<h4> the below code is supposed to add the value of two positive integers<h4>"
   ]
  },
  {
   "cell_type": "code",
   "execution_count": 5,
   "metadata": {},
   "outputs": [
    {
     "name": "stdout",
     "output_type": "stream",
     "text": [
      "3\n"
     ]
    }
   ],
   "source": [
    "a=1\n",
    "b=2\n",
    "c=(a+b)\n",
    "print (c)"
   ]
  },
  {
   "cell_type": "markdown",
   "metadata": {},
   "source": [
    "\n",
    "I just love <strong>bold text</strong>.\n",
    "<h>lists<h>\n",
    "    <ol>\n",
    "        <li>this is the first item</li>\n",
    "        <li>this is the second item</li>\n",
    "        <li>this is the third item</li>\n",
    "        <li>this is the fourth item</li>\n",
    "    <ol>\n",
    "\n",
    "<img src=\"https://preview.redd.it/pvn0kf2n50s51.png?width=1140&format=png&auto=webp&v=enabled&s=c572c8a089a23e8b1b0523c11f02c11d0a482b6c\"></img>\n",
    "\n",
    "<a href=\"https://www.google.com/url?sa=i&url=https%3A%2F%2Fen.wikipedia.org%2Fwiki%2FHTML&psig=AOvVaw3VVK2Snr8denSehBYFCl5k&ust=1675186519631000&source=images&cd=vfe&ved=0CBAQjRxqFwoTCJjN9pvq7_wCFQAAAAAdAAAAABAD\"> this is the link</a>\n",
    "    \n",
    "    <ul>\n",
    "        <li>this is the first item</li>\n",
    "        <li>this is the second item</li>\n",
    "        <li>this is the third item</li>\n",
    "        <li>this is the fourth item</li>\n",
    "    </ul>\n"
   ]
  },
  {
   "cell_type": "code",
   "execution_count": null,
   "metadata": {},
   "outputs": [],
   "source": []
  },
  {
   "cell_type": "code",
   "execution_count": null,
   "metadata": {},
   "outputs": [],
   "source": []
  }
 ],
 "metadata": {
  "kernelspec": {
   "display_name": "Python",
   "language": "python",
   "name": "conda-env-python-py"
  },
  "language_info": {
   "codemirror_mode": {
    "name": "ipython",
    "version": 3
   },
   "file_extension": ".py",
   "mimetype": "text/x-python",
   "name": "python",
   "nbconvert_exporter": "python",
   "pygments_lexer": "ipython3",
   "version": "3.7.12"
  }
 },
 "nbformat": 4,
 "nbformat_minor": 4
}
